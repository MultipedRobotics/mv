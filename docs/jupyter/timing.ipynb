{
 "cells": [
  {
   "cell_type": "code",
   "execution_count": 1,
   "metadata": {},
   "outputs": [],
   "source": [
    "%matplotlib inline\n",
    "# %matplotlib notebook\n",
    "from matplotlib import pyplot as plt"
   ]
  },
  {
   "cell_type": "code",
   "execution_count": 46,
   "metadata": {},
   "outputs": [
    {
     "name": "stdout",
     "output_type": "stream",
     "text": [
      "[9600, 19200, 57600, 115200, 1000000.0]\n",
      "[51.666666666666664, 25.833333333333332, 8.61111111111111, 4.305555555555555, 0.496]\n",
      "[19.35483870967742, 38.70967741935484, 116.12903225806453, 232.25806451612905, 2016.1290322580646]\n"
     ]
    },
    {
     "data": {
      "text/plain": [
       "Text(0.5, 0, 'baud rate')"
      ]
     },
     "execution_count": 46,
     "metadata": {},
     "output_type": "execute_result"
    },
    {
     "data": {
      "image/png": "[encoded data removed]",
      "text/plain": [
       "<Figure size 432x288 with 2 Axes>"
      ]
     },
     "metadata": {
      "needs_background": "light"
     },
     "output_type": "display_data"
    }
   ],
   "source": [
    "\n",
    "data = ((2+1)*18+4+4)*8\n",
    "x = [9600, 19200, 57600, 115200, 1e6] # bits/sec\n",
    "y = [data*1000/d for d in x]          # time to send packset (msec)\n",
    "z = [1000/s for s in y]               # packets/sec (Hz or command rate)\n",
    "# err = []\n",
    "print(x)\n",
    "print(y)\n",
    "print(z)\n",
    "\n",
    "plt.subplot(2,1,1); plt.plot(x,y,'b^', label=\"DR\")\n",
    "plt.grid(True)\n",
    "plt.ylabel('msec/packet')\n",
    "plt.subplot(2,1,2); plt.plot(x,z,'g^', label=\"Hz\")\n",
    "plt.grid(True);\n",
    "plt.ylabel('Hz')\n",
    "plt.xlabel('baud rate')"
   ]
  },
  {
   "cell_type": "code",
   "execution_count": 47,
   "metadata": {},
   "outputs": [],
   "source": [
    "import numpy as np\n",
    "np.set_printoptions(precision=1)\n",
    "np.set_printoptions(suppress=True)"
   ]
  },
  {
   "cell_type": "code",
   "execution_count": 48,
   "metadata": {},
   "outputs": [
    {
     "name": "stdout",
     "output_type": "stream",
     "text": [
      "[[[   9600.       51.7      19.4]]\n",
      "\n",
      " [[  19200.       25.8      38.7]]\n",
      "\n",
      " [[  57600.        8.6     116.1]]\n",
      "\n",
      " [[ 115200.        4.3     232.3]]\n",
      "\n",
      " [[1000000.        0.5    2016.1]]]\n"
     ]
    }
   ],
   "source": [
    "tab = np.array([[x],[y],[z]]).T\n",
    "print(tab)"
   ]
  },
  {
   "cell_type": "markdown",
   "metadata": {},
   "source": [
    "| Baud Rate|Transmit Packet (msec)| Command Rate (Hz) |\n",
    "|---------|------|--------|\n",
    "| 9600    | 51.7 | 19.4   |\n",
    "| 19200   | 25.8 | 38.7   |\n",
    "| 57600   | 8.6  | 116.1  |\n",
    "| 115200  | 4.3  | 232.3  |\n",
    "| 1000000 | 0.5  | 2016.1 |"
   ]
  },
  {
   "cell_type": "code",
   "execution_count": 49,
   "metadata": {},
   "outputs": [
    {
     "data": {
      "text/plain": [
       "232.55813953488374"
      ]
     },
     "execution_count": 49,
     "metadata": {},
     "output_type": "execute_result"
    }
   ],
   "source": [
    "1000/4.3"
   ]
  },
  {
   "cell_type": "code",
   "execution_count": null,
   "metadata": {},
   "outputs": [],
   "source": []
  }
 ],
 "metadata": {
  "kernelspec": {
   "display_name": "Python 3",
   "language": "python",
   "name": "python3"
  },
  "language_info": {
   "codemirror_mode": {
    "name": "ipython",
    "version": 3
   },
   "file_extension": ".py",
   "mimetype": "text/x-python",
   "name": "python",
   "nbconvert_exporter": "python",
   "pygments_lexer": "ipython3",
   "version": "3.8.2"
  }
 },
 "nbformat": 4,
 "nbformat_minor": 4
}
